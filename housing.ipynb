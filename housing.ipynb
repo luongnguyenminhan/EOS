{
 "cells": [
  {
   "cell_type": "markdown",
   "metadata": {},
   "source": [
    "### Import library for visualization"
   ]
  },
  {
   "cell_type": "code",
   "execution_count": 2,
   "metadata": {},
   "outputs": [],
   "source": [
    "import seaborn as sns\n",
    "import matplotlib.pyplot as plt\n",
    "import numpy as np\n",
    "import pandas as pd\n",
    "import plotly.express as px\n",
    "from plotly.subplots import make_subplots\n",
    "from random import choices\n",
    "import random"
   ]
  },
  {
   "cell_type": "markdown",
   "metadata": {},
   "source": [
    "## Import library for machine learning"
   ]
  },
  {
   "cell_type": "code",
   "execution_count": 3,
   "metadata": {},
   "outputs": [],
   "source": [
    "import pandas as pd\n",
    "from sklearn.model_selection import train_test_split\n",
    "from sklearn.linear_model import LinearRegression\n",
    "from sklearn.metrics import mean_squared_error, r2_score"
   ]
  },
  {
   "cell_type": "code",
   "execution_count": null,
   "metadata": {},
   "outputs": [],
   "source": [
    "# --- Create List of Color Palletes ---\n",
    "red_grad = ['#FF0000', '#BF0000', '#800000', '#400000', '#000000']\n",
    "pink_grad = ['#8A0030', '#BA1141', '#FF5C8A', '#FF99B9', '#FFDEEB']\n",
    "purple_grad = ['#4C0028', '#7F0043', '#8E004C', '#A80059', '#C10067']\n",
    "color_mix = ['#F38BB2', '#FFB9CF', '#FFD7D7', '#F17881', '#E7525B']\n",
    "black_grad = ['#100C07', '#3E3B39', '#6D6A6A', '#9B9A9C', '#CAC9CD']\n",
    "\n",
    "# --- Plot Color Palletes --\n",
    "sns.palplot(red_grad)\n",
    "sns.palplot(pink_grad)\n",
    "sns.palplot(purple_grad)\n",
    "sns.palplot(color_mix)\n",
    "sns.palplot(black_grad)"
   ]
  },
  {
   "cell_type": "markdown",
   "metadata": {},
   "source": [
    "# LOAD THE DATA\n",
    "- HOUSING DATA"
   ]
  },
  {
   "cell_type": "code",
   "execution_count": 5,
   "metadata": {},
   "outputs": [],
   "source": [
    "data = pd.read_csv('Housingg.csv')"
   ]
  },
  {
   "cell_type": "code",
   "execution_count": null,
   "metadata": {},
   "outputs": [],
   "source": [
    "# --- Print Dataset Info ---\n",
    "print('\\n')\n",
    "print('Dataset Info')\n",
    "print('*' * 30)\n",
    "print('Total Rows:', data.shape[0])\n",
    "print('Total Columns:', data.shape[1])\n",
    "print('*' * 30)\n",
    "print('\\n')"
   ]
  },
  {
   "cell_type": "code",
   "execution_count": null,
   "metadata": {},
   "outputs": [],
   "source": [
    "data.info() # --- Print Dataset Info ---"
   ]
  },
  {
   "cell_type": "markdown",
   "metadata": {},
   "source": [
    "Các cột thành phần:\n",
    "- area (diện tích)                    \n",
    "- bedrooms (phòng ngủ)\n",
    "- bathrooms (wc)\n",
    "- stories  (số tầng)\n",
    "- parking  (bãi đậu xe)\n",
    "- mainroad_yes (nằm trên đường chính: True?)\n",
    "- guestroom_yes (phòng cho khách (khác phòng khách))\n",
    "- basement_yes (tầng hầm)\n",
    "- hotwaterheating_yes (máy nước nóng)\n",
    "- airconditioning_yes (điều hòa)\n",
    "- prefarea_yes (nằm trong khu dân cư)\n",
    "- furnishing_furnished (Có đầy đủ nội thất)\n",
    "- furnishing_semi-furnished (Có nội thất cơ bản)\n",
    "- furnishing_unfurnished (Chưa có nội thất)"
   ]
  },
  {
   "cell_type": "markdown",
   "metadata": {},
   "source": [
    "## Không có giá trị trống"
   ]
  },
  {
   "cell_type": "code",
   "execution_count": 8,
   "metadata": {},
   "outputs": [
    {
     "data": {
      "text/html": [
       "<div>\n",
       "<style scoped>\n",
       "    .dataframe tbody tr th:only-of-type {\n",
       "        vertical-align: middle;\n",
       "    }\n",
       "\n",
       "    .dataframe tbody tr th {\n",
       "        vertical-align: top;\n",
       "    }\n",
       "\n",
       "    .dataframe thead th {\n",
       "        text-align: right;\n",
       "    }\n",
       "</style>\n",
       "<table border=\"1\" class=\"dataframe\">\n",
       "  <thead>\n",
       "    <tr style=\"text-align: right;\">\n",
       "      <th></th>\n",
       "      <th>count</th>\n",
       "      <th>mean</th>\n",
       "      <th>std</th>\n",
       "      <th>min</th>\n",
       "      <th>25%</th>\n",
       "      <th>50%</th>\n",
       "      <th>75%</th>\n",
       "      <th>max</th>\n",
       "    </tr>\n",
       "  </thead>\n",
       "  <tbody>\n",
       "    <tr>\n",
       "      <th>price</th>\n",
       "      <td>195055.0</td>\n",
       "      <td>7.210521e+06</td>\n",
       "      <td>1.485006e+06</td>\n",
       "      <td>759000.0</td>\n",
       "      <td>6201000.0</td>\n",
       "      <td>7224000.0</td>\n",
       "      <td>8228000.0</td>\n",
       "      <td>13547000.0</td>\n",
       "    </tr>\n",
       "    <tr>\n",
       "      <th>area</th>\n",
       "      <td>195055.0</td>\n",
       "      <td>5.988324e+03</td>\n",
       "      <td>2.512558e+03</td>\n",
       "      <td>1650.0</td>\n",
       "      <td>3809.0</td>\n",
       "      <td>5983.0</td>\n",
       "      <td>8158.5</td>\n",
       "      <td>10360.0</td>\n",
       "    </tr>\n",
       "    <tr>\n",
       "      <th>bedrooms</th>\n",
       "      <td>195055.0</td>\n",
       "      <td>3.500213e+00</td>\n",
       "      <td>1.706946e+00</td>\n",
       "      <td>1.0</td>\n",
       "      <td>2.0</td>\n",
       "      <td>3.0</td>\n",
       "      <td>5.0</td>\n",
       "      <td>6.0</td>\n",
       "    </tr>\n",
       "    <tr>\n",
       "      <th>bathrooms</th>\n",
       "      <td>195055.0</td>\n",
       "      <td>1.995986e+00</td>\n",
       "      <td>8.161633e-01</td>\n",
       "      <td>1.0</td>\n",
       "      <td>1.0</td>\n",
       "      <td>2.0</td>\n",
       "      <td>3.0</td>\n",
       "      <td>3.0</td>\n",
       "    </tr>\n",
       "    <tr>\n",
       "      <th>stories</th>\n",
       "      <td>195055.0</td>\n",
       "      <td>2.495896e+00</td>\n",
       "      <td>1.118096e+00</td>\n",
       "      <td>1.0</td>\n",
       "      <td>1.0</td>\n",
       "      <td>2.0</td>\n",
       "      <td>3.0</td>\n",
       "      <td>4.0</td>\n",
       "    </tr>\n",
       "    <tr>\n",
       "      <th>parking</th>\n",
       "      <td>195055.0</td>\n",
       "      <td>1.501325e+00</td>\n",
       "      <td>1.118625e+00</td>\n",
       "      <td>0.0</td>\n",
       "      <td>0.0</td>\n",
       "      <td>2.0</td>\n",
       "      <td>3.0</td>\n",
       "      <td>3.0</td>\n",
       "    </tr>\n",
       "  </tbody>\n",
       "</table>\n",
       "</div>"
      ],
      "text/plain": [
       "              count          mean           std       min        25%  \\\n",
       "price      195055.0  7.210521e+06  1.485006e+06  759000.0  6201000.0   \n",
       "area       195055.0  5.988324e+03  2.512558e+03    1650.0     3809.0   \n",
       "bedrooms   195055.0  3.500213e+00  1.706946e+00       1.0        2.0   \n",
       "bathrooms  195055.0  1.995986e+00  8.161633e-01       1.0        1.0   \n",
       "stories    195055.0  2.495896e+00  1.118096e+00       1.0        1.0   \n",
       "parking    195055.0  1.501325e+00  1.118625e+00       0.0        0.0   \n",
       "\n",
       "                 50%        75%         max  \n",
       "price      7224000.0  8228000.0  13547000.0  \n",
       "area          5983.0     8158.5     10360.0  \n",
       "bedrooms         3.0        5.0         6.0  \n",
       "bathrooms        2.0        3.0         3.0  \n",
       "stories          2.0        3.0         4.0  \n",
       "parking          2.0        3.0         3.0  "
      ]
     },
     "execution_count": 8,
     "metadata": {},
     "output_type": "execute_result"
    }
   ],
   "source": [
    "data.describe().T"
   ]
  },
  {
   "cell_type": "code",
   "execution_count": null,
   "metadata": {},
   "outputs": [],
   "source": [
    "# --- Pie Plot mainroad distribution ---\n",
    "axpie = px.pie(data, names='mainroad_yes', title='mainroad distribution')\n",
    "# --- Bar Plot mainroad distribution ---\n",
    "value_counts = data['mainroad_yes'].value_counts().reset_index()\n",
    "value_counts.columns = ['mainroad_yes', 'count']\n",
    "axbar = px.bar(value_counts, x='mainroad_yes', y='count', title='Mainroad Distribution', color='mainroad_yes')\n",
    "axpie.show()\n",
    "axbar.show()"
   ]
  },
  {
   "cell_type": "markdown",
   "metadata": {},
   "source": [
    "### Nhận xét:\n",
    "- Khảo sát cho thấy phần lớn nhà ở là nằm ở đường chính\n",
    "---                                     "
   ]
  },
  {
   "cell_type": "code",
   "execution_count": null,
   "metadata": {},
   "outputs": [],
   "source": [
    "# --- Pie Plot basement distribution ---\n",
    "axpie = px.pie(data, names='basement_yes', title='basement distribution')\n",
    "# --- Bar Plot basement distribution ---\n",
    "value_counts = data['basement_yes'].value_counts().reset_index()\n",
    "value_counts.columns = ['basement_yes', 'count']\n",
    "axbar = px.bar(value_counts, x='basement_yes', y='count', title='basement Distribution', color='basement_yes')\n",
    "axpie.show()\n",
    "axbar.show()"
   ]
  },
  {
   "cell_type": "markdown",
   "metadata": {},
   "source": [
    "### Nhận xét:\n",
    "- Trong bộ dữ liệu chỉ có 35% ngôi nhà có tầng hầm và có tới hơn 65% là không tầng hầm\n",
    "---                                     "
   ]
  },
  {
   "cell_type": "code",
   "execution_count": null,
   "metadata": {},
   "outputs": [],
   "source": [
    "# --- Pie Plot guestroom distribution ---\n",
    "axpie = px.pie(data, names='guestroom_yes', title='guestroom distribution')\n",
    "# --- Bar Plot guestroom distribution ---\n",
    "value_counts = data['guestroom_yes'].value_counts().reset_index()\n",
    "value_counts.columns = ['guestroom_yes', 'count']\n",
    "axbar = px.bar(value_counts, x='guestroom_yes', y='count', title='guestroom Distribution', color='guestroom_yes')\n",
    "axpie.show()\n",
    "axbar.show()"
   ]
  },
  {
   "cell_type": "markdown",
   "metadata": {},
   "source": [
    "### Nhận xét:\n",
    "- Trong bộ dữ liệu chỉ có 17,8% ngôi nhà có phòng cho khách và có tới hơn 82% là không có phòng cho khách\n",
    "---                                     "
   ]
  },
  {
   "cell_type": "code",
   "execution_count": null,
   "metadata": {},
   "outputs": [],
   "source": [
    "value_counts1 = data['furnishing_furnished'].value_counts().reset_index()\n",
    "value_counts1.columns = ['furnishing_furnished', 'count']\n",
    "\n",
    "value_counts2 = data['furnishing_semi-furnished'].value_counts().reset_index()\n",
    "value_counts2.columns = ['furnishing_semi-furnished', 'count']\n",
    "\n",
    "value_counts3 = data['furnishing_unfurnished'].value_counts().reset_index()\n",
    "value_counts3.columns = ['furnishing_unfurnished', 'count']\n",
    "axbar = px.bar(title='furnishing Distribution')\n",
    "axbar.add_bar(x=value_counts1[value_counts1['furnishing_furnished']==True]['furnishing_furnished'], y=value_counts1['count'])\n",
    "axbar.add_bar(x=value_counts2[value_counts2['furnishing_semi-furnished']==True]['furnishing_semi-furnished'], y=value_counts2['count'])\n",
    "axbar.add_bar(x=value_counts3[value_counts3['furnishing_unfurnished']==True]['furnishing_unfurnished'], y=value_counts3['count'])\n",
    "axbar.update_layout(barmode='group')\n",
    "axbar.update_legends(title_text='Furnishing')\n",
    "axbar.show()"
   ]
  },
  {
   "cell_type": "code",
   "execution_count": null,
   "metadata": {},
   "outputs": [],
   "source": [
    "# --- Pie Plot hotwaterheating distribution ---\n",
    "axpie = px.pie(data, names='hotwaterheating_yes', title='hotwaterheating distribution')\n",
    "# --- Bar Plot hotwaterheating distribution ---\n",
    "value_counts = data['hotwaterheating_yes'].value_counts().reset_index()\n",
    "value_counts.columns = ['hotwaterheating_yes', 'count']\n",
    "axbar = px.bar(value_counts, x='hotwaterheating_yes', y='count', title='hotwaterheating Distribution', color='hotwaterheating_yes')\n",
    "axpie.show()\n",
    "axbar.show()"
   ]
  },
  {
   "cell_type": "markdown",
   "metadata": {},
   "source": [
    "Chỉ có một số ít nhà có máy nước nóng"
   ]
  },
  {
   "cell_type": "code",
   "execution_count": null,
   "metadata": {},
   "outputs": [],
   "source": [
    "# --- Pie Plot airconditioning distribution ---\n",
    "axpie = px.pie(data, names='airconditioning_yes', title='airconditioning distribution')\n",
    "# --- Bar Plot airconditioning distribution ---\n",
    "value_counts = data['airconditioning_yes'].value_counts().reset_index()\n",
    "value_counts.columns = ['airconditioning_yes', 'count']\n",
    "axbar = px.bar(value_counts, x='airconditioning_yes', y='count', title='airconditioning Distribution', color='airconditioning_yes')\n",
    "axpie.show()\n",
    "axbar.show()"
   ]
  },
  {
   "cell_type": "code",
   "execution_count": null,
   "metadata": {},
   "outputs": [],
   "source": [
    "# --- Pie Plot prefarea distribution ---\n",
    "axpie = px.pie(data, names='prefarea_yes', title='prefarea distribution')\n",
    "# --- Bar Plot airconditioning distribution ---\n",
    "value_counts = data['prefarea_yes'].value_counts().reset_index()\n",
    "value_counts.columns = ['prefarea_yes', 'count']\n",
    "axbar = px.bar(value_counts, x='prefarea_yes', y='count', title='prefarea Distribution', color='prefarea_yes')\n",
    "axpie.show()\n",
    "axbar.show()"
   ]
  },
  {
   "cell_type": "code",
   "execution_count": null,
   "metadata": {},
   "outputs": [],
   "source": [
    "fig = px.scatter_matrix(data, dimensions=[x for x in data.columns], color='price')\n",
    "fig.update_layout(title='Scatter Matrix')\n",
    "fig.update_layout(width=1000, height=1000, font_size=8)\n",
    "fig.show()"
   ]
  },
  {
   "cell_type": "code",
   "execution_count": null,
   "metadata": {},
   "outputs": [],
   "source": [
    "corr = data.corr()\n",
    "fig = px.imshow(corr)\n",
    "fig.update_layout(title='Correlation Matrix')\n",
    "fig.show()"
   ]
  },
  {
   "cell_type": "markdown",
   "metadata": {},
   "source": [
    "### Giá trị của ngôi nhà được định bởi toàn bộ các cột còn lại"
   ]
  },
  {
   "cell_type": "markdown",
   "metadata": {},
   "source": [
    "Price distribution"
   ]
  },
  {
   "cell_type": "code",
   "execution_count": null,
   "metadata": {},
   "outputs": [],
   "source": [
    "price = px.box(data, x='price', title='price')\n",
    "price.show()"
   ]
  },
  {
   "cell_type": "markdown",
   "metadata": {},
   "source": [
    "### Area distribution"
   ]
  },
  {
   "cell_type": "code",
   "execution_count": null,
   "metadata": {},
   "outputs": [],
   "source": [
    "area = px.box(data, x='area', title='area')\n",
    "area.show()"
   ]
  },
  {
   "cell_type": "code",
   "execution_count": null,
   "metadata": {},
   "outputs": [],
   "source": [
    "ax = px.scatter(data, x='area', y='price', title='Price vs Area', color='area')\n",
    "axhis = px.histogram(data, x='area', title='Area Distribution')\n",
    "axhisa = px.histogram(data, x='price', title='Price Distribution')\n",
    "ax.show()\n",
    "axhis.show()\n",
    "axhisa.show()"
   ]
  },
  {
   "cell_type": "markdown",
   "metadata": {},
   "source": [
    "Data cho thấy các loại nhà, các loại giá tiền diện tích đa dạng và phân bố gần như chẩn"
   ]
  },
  {
   "cell_type": "markdown",
   "metadata": {},
   "source": [
    "Giá phân bố chủ yếu từ 6-7 triệu diện tích phân bố đồng đều"
   ]
  },
  {
   "cell_type": "code",
   "execution_count": null,
   "metadata": {},
   "outputs": [],
   "source": [
    "\n",
    "ax = px.scatter(data, x='bedrooms', y='bathrooms', title='bedrooms vs bathrooms',color='price')\n",
    "axhis = px.histogram(data, x='bedrooms', title='bedrooms Distribution', color='bedrooms')\n",
    "axhisa = px.histogram(data, x='bathrooms', title='bathrooms Distribution', color='bathrooms')\n",
    "ax.show()\n",
    "axhis.show()\n",
    "axhisa.show()"
   ]
  },
  {
   "cell_type": "markdown",
   "metadata": {},
   "source": [
    "Đa số nhà ở cho gia đình có 3 phòng ngủ và 1 nhà tắm"
   ]
  },
  {
   "cell_type": "code",
   "execution_count": null,
   "metadata": {},
   "outputs": [],
   "source": [
    "mainroad_price = px.box(data, x='mainroad_yes', y='price', title='mainroad vs price')\n",
    "mainroad_price.show()\n",
    "base_price = px.box(data, x='basement_yes', y='price', title='basement vs price')\n",
    "base_price.show()\n",
    "guestroom_price = px.box(data, x='guestroom_yes', y='price', title='guestroom vs price')\n",
    "guestroom_price.show()\n",
    "furnishingstatus_price = px.box(data, x=['furnishing_furnished','furnishing_semi-furnished'], y='price', title='furnished house price')\n",
    "furnishingstatus_price.show()\n",
    "hotwaterheating_price = px.box(data, x='hotwaterheating_yes', y='price', title='hotwaterheating vs price')\n",
    "hotwaterheating_price.show()\n",
    "airconditioning_price = px.box(data, x='airconditioning_yes', y='price', title='airconditioning vs price')\n",
    "airconditioning_price.show()\n",
    "prefarea_price = px.box(data, x='prefarea_yes', y='price', title='prefarea vs price')\n",
    "prefarea_price.show()\n",
    "parking_price = px.box(data, x='parking', y='price', title='parking vs price')\n",
    "parking_price.show()"
   ]
  },
  {
   "cell_type": "markdown",
   "metadata": {},
   "source": [
    "Ta có thể thấy nhà đắt tiền hay không phụ thuộc vào việc chúng có những thứ *Extra của một căn nhà cơ bản, ví dụ có sẵn nội thất, máy lạnh, nhà mặt phố, tầng hầm, bãi đỗ xe,..."
   ]
  },
  {
   "cell_type": "markdown",
   "metadata": {},
   "source": [
    "----\n",
    "# HỒI QUY TUYẾN TÍNH\n",
    "Giờ chúng ta sẽ đến với phần đưa vào model để dự đoán giá nhà\n",
    "Nhưng trước tiên cần phân loại các dạng mô hình"
   ]
  },
  {
   "cell_type": "code",
   "execution_count": 23,
   "metadata": {},
   "outputs": [],
   "source": [
    "X = data.drop(columns=[\"price\"])  # Các yếu tố\n",
    "y = data[\"price\"]  # Mục tiêu cần đoán"
   ]
  },
  {
   "cell_type": "markdown",
   "metadata": {},
   "source": [
    "Chia ra thành thuộc tính và vấn đề để dự đoán"
   ]
  },
  {
   "cell_type": "code",
   "execution_count": 24,
   "metadata": {},
   "outputs": [],
   "source": [
    "X_train, X_test, y_train, y_test = train_test_split(X, y, test_size=0.2, random_state=83)  # Chia dữ liệu thành 2 phần train và test"
   ]
  },
  {
   "cell_type": "markdown",
   "metadata": {},
   "source": [
    "Tạo model Linear Regression"
   ]
  },
  {
   "cell_type": "code",
   "execution_count": 25,
   "metadata": {},
   "outputs": [],
   "source": [
    "model = LinearRegression()"
   ]
  },
  {
   "cell_type": "markdown",
   "metadata": {},
   "source": [
    "Bắt đầu Train"
   ]
  },
  {
   "cell_type": "code",
   "execution_count": 26,
   "metadata": {},
   "outputs": [
    {
     "data": {
      "text/html": [
       "<style>#sk-container-id-1 {color: black;}#sk-container-id-1 pre{padding: 0;}#sk-container-id-1 div.sk-toggleable {background-color: white;}#sk-container-id-1 label.sk-toggleable__label {cursor: pointer;display: block;width: 100%;margin-bottom: 0;padding: 0.3em;box-sizing: border-box;text-align: center;}#sk-container-id-1 label.sk-toggleable__label-arrow:before {content: \"▸\";float: left;margin-right: 0.25em;color: #696969;}#sk-container-id-1 label.sk-toggleable__label-arrow:hover:before {color: black;}#sk-container-id-1 div.sk-estimator:hover label.sk-toggleable__label-arrow:before {color: black;}#sk-container-id-1 div.sk-toggleable__content {max-height: 0;max-width: 0;overflow: hidden;text-align: left;background-color: #f0f8ff;}#sk-container-id-1 div.sk-toggleable__content pre {margin: 0.2em;color: black;border-radius: 0.25em;background-color: #f0f8ff;}#sk-container-id-1 input.sk-toggleable__control:checked~div.sk-toggleable__content {max-height: 200px;max-width: 100%;overflow: auto;}#sk-container-id-1 input.sk-toggleable__control:checked~label.sk-toggleable__label-arrow:before {content: \"▾\";}#sk-container-id-1 div.sk-estimator input.sk-toggleable__control:checked~label.sk-toggleable__label {background-color: #d4ebff;}#sk-container-id-1 div.sk-label input.sk-toggleable__control:checked~label.sk-toggleable__label {background-color: #d4ebff;}#sk-container-id-1 input.sk-hidden--visually {border: 0;clip: rect(1px 1px 1px 1px);clip: rect(1px, 1px, 1px, 1px);height: 1px;margin: -1px;overflow: hidden;padding: 0;position: absolute;width: 1px;}#sk-container-id-1 div.sk-estimator {font-family: monospace;background-color: #f0f8ff;border: 1px dotted black;border-radius: 0.25em;box-sizing: border-box;margin-bottom: 0.5em;}#sk-container-id-1 div.sk-estimator:hover {background-color: #d4ebff;}#sk-container-id-1 div.sk-parallel-item::after {content: \"\";width: 100%;border-bottom: 1px solid gray;flex-grow: 1;}#sk-container-id-1 div.sk-label:hover label.sk-toggleable__label {background-color: #d4ebff;}#sk-container-id-1 div.sk-serial::before {content: \"\";position: absolute;border-left: 1px solid gray;box-sizing: border-box;top: 0;bottom: 0;left: 50%;z-index: 0;}#sk-container-id-1 div.sk-serial {display: flex;flex-direction: column;align-items: center;background-color: white;padding-right: 0.2em;padding-left: 0.2em;position: relative;}#sk-container-id-1 div.sk-item {position: relative;z-index: 1;}#sk-container-id-1 div.sk-parallel {display: flex;align-items: stretch;justify-content: center;background-color: white;position: relative;}#sk-container-id-1 div.sk-item::before, #sk-container-id-1 div.sk-parallel-item::before {content: \"\";position: absolute;border-left: 1px solid gray;box-sizing: border-box;top: 0;bottom: 0;left: 50%;z-index: -1;}#sk-container-id-1 div.sk-parallel-item {display: flex;flex-direction: column;z-index: 1;position: relative;background-color: white;}#sk-container-id-1 div.sk-parallel-item:first-child::after {align-self: flex-end;width: 50%;}#sk-container-id-1 div.sk-parallel-item:last-child::after {align-self: flex-start;width: 50%;}#sk-container-id-1 div.sk-parallel-item:only-child::after {width: 0;}#sk-container-id-1 div.sk-dashed-wrapped {border: 1px dashed gray;margin: 0 0.4em 0.5em 0.4em;box-sizing: border-box;padding-bottom: 0.4em;background-color: white;}#sk-container-id-1 div.sk-label label {font-family: monospace;font-weight: bold;display: inline-block;line-height: 1.2em;}#sk-container-id-1 div.sk-label-container {text-align: center;}#sk-container-id-1 div.sk-container {/* jupyter's `normalize.less` sets `[hidden] { display: none; }` but bootstrap.min.css set `[hidden] { display: none !important; }` so we also need the `!important` here to be able to override the default hidden behavior on the sphinx rendered scikit-learn.org. See: https://github.com/scikit-learn/scikit-learn/issues/21755 */display: inline-block !important;position: relative;}#sk-container-id-1 div.sk-text-repr-fallback {display: none;}</style><div id=\"sk-container-id-1\" class=\"sk-top-container\"><div class=\"sk-text-repr-fallback\"><pre>LinearRegression()</pre><b>In a Jupyter environment, please rerun this cell to show the HTML representation or trust the notebook. <br />On GitHub, the HTML representation is unable to render, please try loading this page with nbviewer.org.</b></div><div class=\"sk-container\" hidden><div class=\"sk-item\"><div class=\"sk-estimator sk-toggleable\"><input class=\"sk-toggleable__control sk-hidden--visually\" id=\"sk-estimator-id-1\" type=\"checkbox\" checked><label for=\"sk-estimator-id-1\" class=\"sk-toggleable__label sk-toggleable__label-arrow\">LinearRegression</label><div class=\"sk-toggleable__content\"><pre>LinearRegression()</pre></div></div></div></div></div>"
      ],
      "text/plain": [
       "LinearRegression()"
      ]
     },
     "execution_count": 26,
     "metadata": {},
     "output_type": "execute_result"
    }
   ],
   "source": [
    "model.fit(X_train, y_train)  # Huấn luyện mô hình"
   ]
  },
  {
   "cell_type": "markdown",
   "metadata": {},
   "source": [
    "Đánh giá mô hình"
   ]
  },
  {
   "cell_type": "code",
   "execution_count": 27,
   "metadata": {},
   "outputs": [
    {
     "name": "stdout",
     "output_type": "stream",
     "text": [
      "Mean Squared Error: 626897801110.9884\n",
      "R2 Score: 0.7147867674295121\n"
     ]
    }
   ],
   "source": [
    "y_pred = model.predict(X_test)\n",
    "mse = mean_squared_error(y_test, y_pred)\n",
    "print(\"Mean Squared Error:\", mse)\n",
    "r2 = r2_score(y_test, y_pred)\n",
    "print(\"R2 Score:\", r2)"
   ]
  },
  {
   "cell_type": "markdown",
   "metadata": {},
   "source": [
    "### Đánh giá:\n",
    "Model có điểm khá cao, phù hợp, có khả thi"
   ]
  }
 ],
 "metadata": {
  "kernelspec": {
   "display_name": "Python 3",
   "language": "python",
   "name": "python3"
  },
  "language_info": {
   "codemirror_mode": {
    "name": "ipython",
    "version": 3
   },
   "file_extension": ".py",
   "mimetype": "text/x-python",
   "name": "python",
   "nbconvert_exporter": "python",
   "pygments_lexer": "ipython3",
   "version": "3.11.5"
  }
 },
 "nbformat": 4,
 "nbformat_minor": 2
}
