{
 "cells": [
  {
   "cell_type": "markdown",
   "source": [
    "# Data Science Tools and Ecosystem"
   ],
   "metadata": {
    "collapsed": false
   },
   "id": "fcf0af6e43ee7ff1"
  },
  {
   "cell_type": "markdown",
   "source": [
    "In this notebook, Data Science Tools and Ecosystem are summarized."
   ],
   "metadata": {
    "collapsed": false
   },
   "id": "c3a22a6a3d915cf0"
  },
  {
   "cell_type": "markdown",
   "source": [
    "-------\n",
    "Some of the popular languages that Data Scientists use are:\n",
    "-------\n",
    "---\n",
    "1. Python\n",
    "2. R\n",
    "3. Julia\n",
    "4. SQL\n",
    "5. Scala\n",
    "6. SAS\n",
    "7. MATLAB\n",
    "8. Java\n",
    "9. C++\n",
    "10. Ruby"
   ],
   "metadata": {
    "collapsed": false
   },
   "id": "c635a2737f309a43"
  },
  {
   "cell_type": "markdown",
   "source": [
    "---\n",
    "Some of the commonly used libraries used by Data Scientists include:\n",
    "---\n",
    "---\n",
    "1. Pandas\n",
    "2. NumPy\n",
    "3. Matplotlib\n",
    "4. Scikit-learn\n",
    "5. TensorFlow\n",
    "6. Keras\n"
   ],
   "metadata": {
    "collapsed": false
   },
   "id": "84d4e121bebf110f"
  },
  {
   "cell_type": "markdown",
   "source": [
    "---\n",
    "Data Science Tools\n",
    "---\n",
    "---\n",
    "|      Tool      |\n",
    "|:--------------:|\n",
    "| RStudio        |\n",
    "|   JupyterLab   |\n",
    "|     Spyder     |\n",
    "| Visual Studio  |"
   ],
   "metadata": {
    "collapsed": false
   },
   "id": "35d7b8982716cb08"
  },
  {
   "cell_type": "markdown",
   "source": [
    "<h3>Below are a few examples of evaluating arithmetic expressions in Python</h3>"
   ],
   "metadata": {
    "collapsed": false
   },
   "id": "dcad9c72b00bdeaa"
  },
  {
   "cell_type": "code",
   "execution_count": 4,
   "outputs": [
    {
     "data": {
      "text/plain": "17"
     },
     "execution_count": 4,
     "metadata": {},
     "output_type": "execute_result"
    }
   ],
   "source": [
    "(3*4)+5\n",
    "#This a simple arithmetic expression to mutiply then add integers"
   ],
   "metadata": {
    "collapsed": false,
    "ExecuteTime": {
     "end_time": "2023-10-04T16:14:39.641583400Z",
     "start_time": "2023-10-04T16:14:39.624715800Z"
    }
   },
   "id": "4efb44778cd8e925"
  },
  {
   "cell_type": "code",
   "execution_count": 5,
   "outputs": [
    {
     "name": "stdout",
     "output_type": "stream",
     "text": [
      "3 hours 20 minutes\n"
     ]
    }
   ],
   "source": [
    "minute= 200\n",
    "print(minute//60,\"hours\",minute%60,\"minutes\")\n",
    "#This will convert 200 minutes to hours by diving by 60"
   ],
   "metadata": {
    "collapsed": false,
    "ExecuteTime": {
     "end_time": "2023-10-04T16:14:39.642588300Z",
     "start_time": "2023-10-04T16:14:39.628984500Z"
    }
   },
   "id": "6e3811c48ecbda3c"
  },
  {
   "cell_type": "markdown",
   "source": [
    "**Objective:** List popular languages for Data Science\n",
    "- Python\n",
    "- R\n",
    "- JavaScript\n",
    "- SQL"
   ],
   "metadata": {
    "collapsed": false
   },
   "id": "3f3c0a531634aa50"
  },
  {
   "cell_type": "markdown",
   "source": [
    "<h2>Author</h2>\n",
    "Minh An"
   ],
   "metadata": {
    "collapsed": false
   },
   "id": "3501f4dd3b6c5095"
  },
  {
   "cell_type": "code",
   "execution_count": null,
   "outputs": [],
   "source": [],
   "metadata": {
    "collapsed": false
   },
   "id": "407fe155793de16"
  }
 ],
 "metadata": {
  "kernelspec": {
   "display_name": "Python 3",
   "language": "python",
   "name": "python3"
  },
  "language_info": {
   "codemirror_mode": {
    "name": "ipython",
    "version": 2
   },
   "file_extension": ".py",
   "mimetype": "text/x-python",
   "name": "python",
   "nbconvert_exporter": "python",
   "pygments_lexer": "ipython2",
   "version": "2.7.6"
  }
 },
 "nbformat": 4,
 "nbformat_minor": 5
}
